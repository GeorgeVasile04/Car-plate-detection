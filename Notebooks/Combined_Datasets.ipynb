{
 "cells": [
  {
   "cell_type": "markdown",
   "id": "be3d2e9f",
   "metadata": {},
   "source": [
    "# Combining DataV2 and DataV3 into Dataset_XML\n",
    "\n",
    "This notebook combines the XML-based license plate datasets (DataV2 and DataV3) into a single unified dataset called Dataset_XML.\n",
    "\n",
    "Both datasets use the same annotation format with bounding boxes defined as:\n",
    "- `xmin, ymin`: Top-left corner\n",
    "- `xmax, ymax`: Bottom-right corner"
   ]
  }
 ],
 "metadata": {
  "language_info": {
   "name": "python"
  }
 },
 "nbformat": 4,
 "nbformat_minor": 5
}
